{
 "cells": [
  {
   "cell_type": "code",
   "execution_count": 6,
   "id": "d42584b9",
   "metadata": {},
   "outputs": [],
   "source": [
    "from tensorflow.keras.preprocessing.image import ImageDataGenerator, array_to_img, img_to_array, load_img"
   ]
  },
  {
   "cell_type": "code",
   "execution_count": 10,
   "id": "5cc2eedb",
   "metadata": {},
   "outputs": [],
   "source": [
    "#Kullanılacak veri artırma tekniğini tanımlama\n",
    "datagen = ImageDataGenerator(rotation_range=40,\n",
    "                             width_shift_range=0.2,\n",
    "                             height_shift_range=0.2,\n",
    "                             shear_range=0.2,\n",
    "                             zoom_range=0.2,\n",
    "                             horizontal_flip=True,\n",
    "                             vertical_flip=True,\n",
    "                             fill_mode='nearest')"
   ]
  },
  {
   "cell_type": "code",
   "execution_count": 12,
   "id": "3dd9100f",
   "metadata": {},
   "outputs": [],
   "source": [
    "#Artırma işlemi yapılacak olan görüntünün dosyadan okunması işlemi\n",
    "img = load_img('manzara.jpg')\n",
    "x = img_to_array(img)\n",
    "x = x.reshape((1,) + x.shape)"
   ]
  },
  {
   "cell_type": "code",
   "execution_count": 15,
   "id": "333314ec",
   "metadata": {},
   "outputs": [],
   "source": [
    "# tek resimden 50 tane farklı resim üret ve Artirilmis_Veri klasörüne .jpeg formatında kaydet.\n",
    "i = 0\n",
    "\n",
    "for batch in datagen.flow(x, batch_size=1,\n",
    "                          save_to_dir='Artirilmis_Veri',\n",
    "                          save_format='jpg'):\n",
    "    i += 1\n",
    "    if i > 50:\n",
    "        break \n",
    "                         \n",
    "    "
   ]
  },
  {
   "cell_type": "code",
   "execution_count": null,
   "id": "03391370",
   "metadata": {},
   "outputs": [],
   "source": []
  }
 ],
 "metadata": {
  "kernelspec": {
   "display_name": "Python 3 (ipykernel)",
   "language": "python",
   "name": "python3"
  },
  "language_info": {
   "codemirror_mode": {
    "name": "ipython",
    "version": 3
   },
   "file_extension": ".py",
   "mimetype": "text/x-python",
   "name": "python",
   "nbconvert_exporter": "python",
   "pygments_lexer": "ipython3",
   "version": "3.9.13"
  }
 },
 "nbformat": 4,
 "nbformat_minor": 5
}
